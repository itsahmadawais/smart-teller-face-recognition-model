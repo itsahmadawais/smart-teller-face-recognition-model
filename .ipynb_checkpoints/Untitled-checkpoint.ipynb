{
 "cells": [
  {
   "cell_type": "code",
   "execution_count": 8,
   "metadata": {},
   "outputs": [
    {
     "name": "stdout",
     "output_type": "stream",
     "text": [
      "Abdullah  is here\n",
      "Abdullah  is here\n",
      "Abdullah  is here\n",
      "Abdullah  is here\n",
      "Abdullah  is here\n",
      "Abdullah  is here\n",
      "Abdullah  is here\n",
      "Abdullah  is here\n",
      "Abdullah  is here\n",
      "Abdullah  is here\n",
      "Abdullah  is here\n",
      "Abdullah  is here\n",
      "Abdullah  is here\n",
      "Abdullah  is here\n",
      "Abdullah  is here\n",
      "Abdullah  is here\n",
      "Abdullah  is here\n",
      "Abdullah  is here\n",
      "Abdullah  is here\n",
      "Abdullah  is here\n",
      "Abdullah  is here\n"
     ]
    }
   ],
   "source": [
    "import face_recognition\n",
    "import numpy as np\n",
    "import cv2\n",
    "video_capture = cv2.VideoCapture(0)\n",
    "\n",
    "sanjay_image = face_recognition.load_image_file(\"E:/45156.jpg\")\n",
    "abdullah_face_encoding = face_recognition.face_encodings(sanjay_image)[0]\n",
    "\n",
    "# Load a second sample picture and learn how to recognize it.\n",
    "rishab_image = face_recognition.load_image_file(\"E:/abdulsamad.jpeg\")\n",
    "abdulsamad_face_encoding = face_recognition.face_encodings(rishab_image)[0]\n",
    "\n",
    "# Create arrays of known face encodings and their names\n",
    "known_face_encodings = [\n",
    "    abdullah_face_encoding,\n",
    "    abdulsamad_face_encoding\n",
    "]\n",
    "known_face_names = [\n",
    "    \"Abdullah\",\n",
    "    \"Abdul-Samad\"\n",
    "]\n",
    "\n",
    "while True:\n",
    "    ret, frame = video_capture.read()\n",
    "    rgb_frame = frame[:,:,::-1]\n",
    "\n",
    "    face_locations = face_recognition.face_locations(rgb_frame)\n",
    "    face_encodings = face_recognition.face_encodings(rgb_frame, face_locations)\n",
    "\n",
    "    for(top, right, bottom, left), face_encoding in zip (face_locations, face_encodings):\n",
    "        matches = face_recognition.compare_faces(known_face_encodings, face_encoding)\n",
    "         \n",
    "        name = \"Unknown\"\n",
    "\n",
    "        if True in matches:\n",
    "            first_match_index = matches.index(True)\n",
    "            name = known_face_names[first_match_index]\n",
    "\n",
    "        cv2.rectangle(frame,(left, top), (right, bottom), (255, 0, 0), 1)\n",
    "        font = cv2.FONT_HERSHEY_DUPLEX\n",
    "        cv2.putText(frame, name, (left +6 ,bottom -6),font, 1.0, (255,0,255), 1)\n",
    "        if(name !=\"Unknown\"):\n",
    "            print(name,\" is here\")\n",
    "\n",
    "    cv2.imshow('video', frame)\n",
    "\n",
    "    if cv2.waitKey(1) & 0xFF == ord('q'):\n",
    "        break;\n",
    "\n",
    "video_capture.release()\n",
    "cv2.destroyAllWindows() "
   ]
  },
  {
   "cell_type": "code",
   "execution_count": null,
   "metadata": {},
   "outputs": [],
   "source": []
  }
 ],
 "metadata": {
  "kernelspec": {
   "display_name": "Python 3",
   "language": "python",
   "name": "python3"
  },
  "language_info": {
   "codemirror_mode": {
    "name": "ipython",
    "version": 3
   },
   "file_extension": ".py",
   "mimetype": "text/x-python",
   "name": "python",
   "nbconvert_exporter": "python",
   "pygments_lexer": "ipython3",
   "version": "3.7.3"
  }
 },
 "nbformat": 4,
 "nbformat_minor": 2
}
